{
 "cells": [
  {
   "cell_type": "markdown",
   "metadata": {},
   "source": [
    "### 211112262 \n",
    "### VAIBHAV PATEL\n"
   ]
  },
  {
   "cell_type": "code",
   "execution_count": 1,
   "metadata": {},
   "outputs": [
    {
     "name": "stdout",
     "output_type": "stream",
     "text": [
      "RMSE: 0.9605\n",
      "MAE: 0.7768\n",
      "R^2: 0.5399\n",
      "\n",
      "RMSE with Ridge Regularization (lambda=0.1): 0.9509\n"
     ]
    }
   ],
   "source": [
    "import numpy as np \n",
    "# Define the data \n",
    "x = np.array([3, 4, 5, 7, 5]) \n",
    "y = np.array([1, 2, 3, 4, 5]) \n",
    "# Define the learning rate and number of iterations \n",
    "learning_rate = 0.02 \n",
    "iterations = 100 \n",
    "# Initialize the weights \n",
    "m = 0 \n",
    "b = 0 \n",
    "# Implement gradient descent algorithm \n",
    "for _ in range(iterations): \n",
    " # Calculate the predictions \n",
    " y_pred = m * x + b \n",
    " # Calculate the errors \n",
    " errors = y - y_pred \n",
    " # Calculate the gradients \n",
    " m_gradient = -2 * np.mean(x * errors) \n",
    " b_gradient = -2 * np.mean(errors) \n",
    " # Update the weights \n",
    " m -= learning_rate * m_gradient \n",
    " b -= learning_rate * b_gradient \n",
    "# Calculate the RMSE \n",
    "rmse = np.sqrt(np.mean(errors**2)) \n",
    "# Calculate the MAE \n",
    "mae = np.mean(np.abs(errors)) \n",
    "# Calculate the coefficient of determination (R^2) \n",
    "r_squared = 1 - np.var(errors) / np.var(y) \n",
    "# Print the results \n",
    "print(f\"RMSE: {rmse:.4f}\") \n",
    "print(f\"MAE: {mae:.4f}\") \n",
    "print(f\"R^2: {r_squared:.4f}\") \n",
    "# Implement ridge regularization \n",
    "lambda_value = 0.1 \n",
    "for _ in range(iterations): \n",
    " # Calculate the predictions \n",
    " y_pred = m * x + b \n",
    " # Calculate the errors \n",
    " errors = y - y_pred \n",
    " # Calculate the gradients with regularization \n",
    " m_gradient = -2 * np.mean(x * errors) - 2 * lambda_value * m \n",
    " b_gradient = -2 * np.mean(errors) \n",
    " # Update the weights \n",
    " m -= learning_rate * m_gradient \n",
    " b -= learning_rate * b_gradient \n",
    "# Calculate the RMSE with regularization \n",
    "rmse_reg = np.sqrt(np.mean(errors**2)) \n",
    "# Print the results with regularization \n",
    "print(f\"\\nRMSE with Ridge Regularization (lambda={lambda_value}): {rmse_reg:.4f}\")"
   ]
  }
 ],
 "metadata": {
  "kernelspec": {
   "display_name": "myproject",
   "language": "python",
   "name": "myproject"
  },
  "language_info": {
   "codemirror_mode": {
    "name": "ipython",
    "version": 3
   },
   "file_extension": ".py",
   "mimetype": "text/x-python",
   "name": "python",
   "nbconvert_exporter": "python",
   "pygments_lexer": "ipython3",
   "version": "3.11.4"
  }
 },
 "nbformat": 4,
 "nbformat_minor": 2
}
