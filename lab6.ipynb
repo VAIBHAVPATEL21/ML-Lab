{
 "cells": [
  {
   "cell_type": "markdown",
   "metadata": {},
   "source": [
    "## 211112262\n",
    "## VAIBHAV PATEL"
   ]
  },
  {
   "cell_type": "markdown",
   "metadata": {},
   "source": [
    "## Lab 5"
   ]
  },
  {
   "cell_type": "code",
   "execution_count": 1,
   "metadata": {},
   "outputs": [
    {
     "name": "stdout",
     "output_type": "stream",
     "text": [
      "Bagging Regression:\n",
      "MSE: 97.22222622950822\n",
      "R-squared: 0.9513080302119536\n",
      "Random Forest Regression:\n",
      "MSE: 101.10237704918032\n",
      "R-squared: 0.949364727802497\n"
     ]
    },
    {
     "name": "stderr",
     "output_type": "stream",
     "text": [
      "/Library/Frameworks/Python.framework/Versions/3.11/lib/python3.11/site-packages/sklearn/ensemble/_base.py:156: FutureWarning: `base_estimator` was renamed to `estimator` in version 1.2 and will be removed in 1.4.\n",
      "  warnings.warn(\n"
     ]
    }
   ],
   "source": [
    "import pandas as pd\n",
    "from sklearn.ensemble import BaggingRegressor, RandomForestRegressor\n",
    "from sklearn.tree import DecisionTreeRegressor\n",
    "from sklearn.model_selection import train_test_split\n",
    "from sklearn.metrics import mean_squared_error, r2_score\n",
    "from sklearn import preprocessing\n",
    "\n",
    "# Load the dataset\n",
    "data = pd.read_csv('used_car_data.csv')\n",
    "\n",
    "le = preprocessing.LabelEncoder()\n",
    "data_train_df = pd.DataFrame(data)\n",
    "data_train_df_encoded = data_train_df.apply(le.fit_transform)\n",
    "\n",
    "# Preprocess the data\n",
    "X = data_train_df_encoded.drop('Present_Price', axis=1)\n",
    "y = data_train_df_encoded['Present_Price']\n",
    "X_train, X_test, y_train, y_test = train_test_split(X, y, test_size=0.2, random_state=42)\n",
    "\n",
    "# Bagging Regression\n",
    "bag_reg = BaggingRegressor(base_estimator=DecisionTreeRegressor(), n_estimators=100, random_state=42)\n",
    "bag_reg.fit(X_train, y_train)\n",
    "bag_pred = bag_reg.predict(X_test)\n",
    "\n",
    "bag_mse = mean_squared_error(y_test, bag_pred)\n",
    "bag_r2 = r2_score(y_test, bag_pred)\n",
    "print('Bagging Regression:')\n",
    "print('MSE:', bag_mse)\n",
    "print('R-squared:', bag_r2)\n",
    "\n",
    "# Random Forest Regression\n",
    "rf_reg = RandomForestRegressor(n_estimators=100, random_state=42)\n",
    "rf_reg.fit(X_train, y_train)\n",
    "rf_pred = rf_reg.predict(X_test)\n",
    "rf_mse = mean_squared_error(y_test, rf_pred)\n",
    "rf_r2 = r2_score(y_test, rf_pred)\n",
    "print('Random Forest Regression:')\n",
    "print('MSE:', rf_mse)\n",
    "print('R-squared:', rf_r2)"
   ]
  }
 ],
 "metadata": {
  "kernelspec": {
   "display_name": "myproject",
   "language": "python",
   "name": "myproject"
  },
  "language_info": {
   "codemirror_mode": {
    "name": "ipython",
    "version": 3
   },
   "file_extension": ".py",
   "mimetype": "text/x-python",
   "name": "python",
   "nbconvert_exporter": "python",
   "pygments_lexer": "ipython3",
   "version": "3.11.4"
  }
 },
 "nbformat": 4,
 "nbformat_minor": 2
}
