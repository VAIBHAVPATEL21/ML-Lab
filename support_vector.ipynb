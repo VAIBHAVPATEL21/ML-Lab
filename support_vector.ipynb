{
 "cells": [
  {
   "cell_type": "markdown",
   "metadata": {},
   "source": [
    "##  Lab 2\n",
    "##  211112262\n",
    " ## VAIBHAV PATEL\n",
    " ## Support Vector Machine"
   ]
  },
  {
   "cell_type": "code",
   "execution_count": 2,
   "metadata": {},
   "outputs": [
    {
     "name": "stdout",
     "output_type": "stream",
     "text": [
      "diabetes-5-fold\n",
      "('diabetes-5-fold', 2, 1, 1): RMSE=0.48671909101067873, MAE=0.3854955587477355, R2=0.34341223350917116\n",
      "('diabetes-5-fold', 3, 1, 1): RMSE=0.48671909101067873, MAE=0.3854955587477355, R2=0.34341223350917116\n",
      "machineCPU-5-fold\n",
      "('machineCPU-5-fold', 2, 1, 1): RMSE=161.8421465679037, MAE=72.26640426703452, R2=-0.06745001015434093\n",
      "('machineCPU-5-fold', 3, 1, 1): RMSE=161.8421465679037, MAE=72.26640426703452, R2=-0.06745001015434093\n",
      "mortgage-5-fold\n",
      "('mortgage-5-fold', 2, 1, 1): RMSE=0.3450650640849083, MAE=0.14938213544480547, R2=0.9872723388870728\n",
      "('mortgage-5-fold', 3, 1, 1): RMSE=0.3450650640849083, MAE=0.14938213544480547, R2=0.9872723388870728\n"
     ]
    }
   ],
   "source": [
    "import pandas as pd\n",
    "from sklearn.svm import SVR\n",
    "from sklearn.metrics import mean_squared_error, mean_absolute_error, r2_score\n",
    "from sklearn.preprocessing import StandardScaler\n",
    "from sklearn.model_selection import GridSearchCV\n",
    "import glob\n",
    "\n",
    "# Function to perform SVM Regression with RBF kernel (Radial Basis Function) =  e^(-x^2)\n",
    "def SVRRBFKernelMetrics(x_train, y_train, x_test, y_test, C, gamma):\n",
    "    scaler = StandardScaler()\n",
    "    x_train_scaled = scaler.fit_transform(x_train)\n",
    "    x_test_scaled = scaler.transform(x_test)\n",
    "\n",
    "    svr = SVR(kernel='rbf', C=C, gamma=gamma)\n",
    "    svr.fit(x_train_scaled, y_train)\n",
    "\n",
    "    y_pred = svr.predict(x_test_scaled)\n",
    "\n",
    "    rmse = mean_squared_error(y_test, y_pred, squared=False)\n",
    "    mae = mean_absolute_error(y_test, y_pred)\n",
    "    r2 = r2_score(y_test, y_pred)\n",
    "    return rmse, mae, r2\n",
    "\n",
    "folders = [\"diabetes-5-fold\", \"machineCPU-5-fold\", \"mortgage-5-fold\"]\n",
    "\n",
    "for folder in folders:\n",
    "    print(folder)\n",
    "\n",
    "    # Define the file pattern\n",
    "    file_pattern = \"*tra.dat\"\n",
    "    training_files = glob.glob(\"./\" + folder + \"/\" + file_pattern)\n",
    "    file_pattern = \"*tst.dat\"\n",
    "    testing_files = glob.glob(\"./\" + folder + \"/\" + file_pattern)\n",
    "\n",
    "    alpha_values = [2 ** i for i in range(0, 2, 2)]\n",
    "    degree = [2, 3]\n",
    "\n",
    "    for d in degree:\n",
    "        svm_map = {}\n",
    "\n",
    "        for C in alpha_values:\n",
    "            for gamma in alpha_values:\n",
    "                trmse = 0\n",
    "                tmae = 0\n",
    "                tr2 = 0\n",
    "\n",
    "                for train_file, test_file in zip(training_files, testing_files):\n",
    "                    df = pd.read_csv(train_file, delimiter=',', header=None, comment='@')\n",
    "                    df_test = pd.read_csv(test_file, delimiter=',', header=None, comment='@')\n",
    "\n",
    "                    x_train = df.iloc[:, :-1]\n",
    "                    y_train = df.iloc[:, -1]\n",
    "                    x_test = df_test.iloc[:, :-1]\n",
    "                    y_test = df_test.iloc[:, -1]\n",
    "                    \n",
    "                    # SVM applied with RBF Kernel\n",
    "                    rmse, mae, r2 = SVRRBFKernelMetrics(x_train, y_train, x_test, y_test, C, gamma)\n",
    "\n",
    "                    trmse += rmse\n",
    "                    tmae += mae\n",
    "                    tr2 += r2\n",
    "\n",
    "                trmse /= 5\n",
    "                tmae /= 5\n",
    "                tr2 /= 5\n",
    "\n",
    "                svm_map[(folder, d, C, gamma)] = (trmse, tmae, tr2)\n",
    "\n",
    "#         Print or store the results as needed\n",
    "        for key, values in svm_map.items():\n",
    "            print(f\"{key}: RMSE={values[0]}, MAE={values[1]}, R2={values[2]}\")"
   ]
  }
 ],
 "metadata": {
  "kernelspec": {
   "display_name": "myproject",
   "language": "python",
   "name": "myproject"
  },
  "language_info": {
   "codemirror_mode": {
    "name": "ipython",
    "version": 3
   },
   "file_extension": ".py",
   "mimetype": "text/x-python",
   "name": "python",
   "nbconvert_exporter": "python",
   "pygments_lexer": "ipython3",
   "version": "3.11.4"
  }
 },
 "nbformat": 4,
 "nbformat_minor": 2
}
